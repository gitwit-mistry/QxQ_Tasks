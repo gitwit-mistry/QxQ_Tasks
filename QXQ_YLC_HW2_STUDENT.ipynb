{
  "nbformat": 4,
  "nbformat_minor": 0,
  "metadata": {
    "colab": {
      "provenance": [],
      "collapsed_sections": [
        "F91f5ZDuVo_g"
      ],
      "include_colab_link": true
    },
    "kernelspec": {
      "name": "python3",
      "display_name": "Python 3"
    },
    "language_info": {
      "name": "python"
    }
  },
  "cells": [
    {
      "cell_type": "markdown",
      "metadata": {
        "id": "view-in-github",
        "colab_type": "text"
      },
      "source": [
        "<a href=\"https://colab.research.google.com/github/gitwit-mistry/QxQ_Tasks/blob/master/QXQ_YLC_HW2_STUDENT.ipynb\" target=\"_parent\"><img src=\"https://colab.research.google.com/assets/colab-badge.svg\" alt=\"Open In Colab\"/></a>"
      ]
    },
    {
      "cell_type": "markdown",
      "source": [
        "# Homework: Week #2 \n",
        "---\n",
        "This week's homework is a chance to continue honing your python skills.\n",
        "\n",
        "You can find the syntax cheat sheet [here](https://docs.google.com/document/d/1NGD5FUzchMfVLKOAkhsUPQnaYh0dEoRVtr_A1j75jtY/edit?usp=sharing).\n",
        "\n",
        "---"
      ],
      "metadata": {
        "id": "ExUXGU-CzEXO"
      }
    },
    {
      "cell_type": "markdown",
      "source": [
        "#### **Exercise #1:** Create a variable named `welcome_message` and store the string \"Welcome to class!\" in it. Then print this variable."
      ],
      "metadata": {
        "id": "XEII7aALXP4q"
      }
    },
    {
      "cell_type": "code",
      "source": [
        "welcome_message = \"Welcome to class!\""
      ],
      "metadata": {
        "id": "s40j8v7-YENe"
      },
      "execution_count": 9,
      "outputs": []
    },
    {
      "cell_type": "markdown",
      "source": [
        "#### **Exercise #2:** For each of the variable declarations below, say whether the name would be accepted by python or not. NOTE: You can change the text here by double clicking this cell.\n",
        "\n",
        "a. var_var_binks : YES\n",
        "\n",
        "b. 3_musketeers : NO\n",
        "\n",
        "c. puncuation_marks : YES\n",
        "\n",
        "d. exclamation!marks : NO\n",
        "\n",
        "e. thirty3 : YES\n",
        "\n",
        "f. print : NO\n",
        "\n",
        "g. quantumSuperposition : YES"
      ],
      "metadata": {
        "id": "F91f5ZDuVo_g"
      }
    },
    {
      "cell_type": "markdown",
      "source": [
        "#### **Exercise #3:** \n",
        "\n",
        "\n",
        "You start walking to your friend's house, which is 20 minutes away, but realize half way there that you forgot something. So, you walk back to your home and then go to your friend's house.\n",
        "\n",
        "Complete the code below to calculate how long your total trip takes and print out the sentence, \"It took me [total time of trip] minutes to get here!\"."
      ],
      "metadata": {
        "id": "2BJz9-uvVpGi"
      }
    },
    {
      "cell_type": "code",
      "source": [
        "time_to_friend = 20\n",
        "\n",
        "total_time = time_to_friend + 2 * time_to_friend / 2\n",
        "\n",
        "print(\"It took me \" + str(int(total_time)) + \" minutes to get here!\")"
      ],
      "metadata": {
        "id": "zKBqE7txVpGj",
        "colab": {
          "base_uri": "https://localhost:8080/"
        },
        "outputId": "dfc982f2-5c17-47cd-b108-84a3fe5dfb6f"
      },
      "execution_count": 4,
      "outputs": [
        {
          "output_type": "stream",
          "name": "stdout",
          "text": [
            "It took me 40 minutes to get here!\n"
          ]
        }
      ]
    },
    {
      "cell_type": "markdown",
      "source": [
        "#### **Exercise #4:** Your favorite musician just released a new album! It is 38 minutes long and has an average song length of 3.7 minutes.\n",
        "\n",
        "Complete the code below to determine and print the number of songs in this album."
      ],
      "metadata": {
        "id": "DYUKOJHZVpUR"
      }
    },
    {
      "cell_type": "code",
      "source": [
        "album_length = 38\n",
        "avg_song_length = 3.7\n",
        "\n",
        "num_songs = album_length / avg_song_length\n",
        "\n",
        "print(num_songs)"
      ],
      "metadata": {
        "id": "xGoQRePRVpUS",
        "colab": {
          "base_uri": "https://localhost:8080/"
        },
        "outputId": "d496adfc-b8b6-4840-f9fd-8bd134831925"
      },
      "execution_count": 5,
      "outputs": [
        {
          "output_type": "stream",
          "name": "stdout",
          "text": [
            "10.27027027027027\n"
          ]
        }
      ]
    },
    {
      "cell_type": "markdown",
      "source": [
        "#### **Exercise #5:** You want to buy new clothes, on a budget of course! You have a budget of \\\\$100 and end up buying 3 shirts for \\\\$11 each, 4 pairs of socks for \\\\$2.57 each, and 1 pair of pants for \\\\$15.99. \n",
        "\n",
        "Complete the code below to calculate the difference between your budget and what you spent."
      ],
      "metadata": {
        "id": "WdBTuDMiVpY0"
      }
    },
    {
      "cell_type": "code",
      "source": [
        "budget = 100\n",
        "\n",
        "num_shirts = 3\n",
        "cost_per_shirt = 11\n",
        "num_socks = 4\n",
        "cost_per_socks = 2.57\n",
        "num_pants = 1\n",
        "cost_per_pants = 15.99\n",
        "\n",
        "total = num_shirts * cost_per_shirt + num_socks * cost_per_socks + num_pants * cost_per_pants\n",
        "\n",
        "\n",
        "print(budget - total)"
      ],
      "metadata": {
        "id": "Ep8m4nkcVpY1",
        "colab": {
          "base_uri": "https://localhost:8080/"
        },
        "outputId": "0a46f140-fb13-4d11-c61c-f76843821168"
      },
      "execution_count": 6,
      "outputs": [
        {
          "output_type": "stream",
          "name": "stdout",
          "text": [
            "40.73\n"
          ]
        }
      ]
    },
    {
      "cell_type": "markdown",
      "source": [
        "#### **Exercise #6:** Copy your answer from above into the cell below. Now, modify this code to determine and print how many more socks you can get while staying under budget."
      ],
      "metadata": {
        "id": "ECGof-SAVpeE"
      }
    },
    {
      "cell_type": "code",
      "source": [
        "import math\n",
        "budget_remaining = 40.73\n",
        "number_of_extra_socks = budget_remaining / cost_per_socks\n",
        "print(math.floor(number_of_extra_socks))"
      ],
      "metadata": {
        "id": "8YdbmqUFVpeF",
        "colab": {
          "base_uri": "https://localhost:8080/"
        },
        "outputId": "108e0138-6910-4b01-e7f0-facf13ae4fca"
      },
      "execution_count": 13,
      "outputs": [
        {
          "output_type": "stream",
          "name": "stdout",
          "text": [
            "15\n"
          ]
        }
      ]
    },
    {
      "cell_type": "markdown",
      "source": [
        "#### **Exercise #7:** Find the errors in the code below and fix them so that it can run properly."
      ],
      "metadata": {
        "id": "LC33VVwdWCk5"
      }
    },
    {
      "cell_type": "code",
      "source": [
        "peaches = 4\n",
        "persimmons = 2\n",
        "\n",
        "fruits = peaches + persimmons\n",
        "\n",
        "print(fruits)"
      ],
      "metadata": {
        "id": "f-iCLhA-WCk5",
        "colab": {
          "base_uri": "https://localhost:8080/"
        },
        "outputId": "f7a1eead-147d-44d8-e6f4-69a1cccd5e9d"
      },
      "execution_count": 14,
      "outputs": [
        {
          "output_type": "stream",
          "name": "stdout",
          "text": [
            "6\n"
          ]
        }
      ]
    },
    {
      "cell_type": "markdown",
      "source": [
        "#### **Exercise #8:** Find and correct the errors in the code below."
      ],
      "metadata": {
        "id": "Q4ODMtwSWCk5"
      }
    },
    {
      "cell_type": "code",
      "source": [
        "print(\"HelloWorld!\")"
      ],
      "metadata": {
        "id": "eSNOO8jRWCk5",
        "colab": {
          "base_uri": "https://localhost:8080/"
        },
        "outputId": "a97230c0-00f0-4aa5-8234-66962548b673"
      },
      "execution_count": 16,
      "outputs": [
        {
          "output_type": "stream",
          "name": "stdout",
          "text": [
            "HelloWorld!\n"
          ]
        }
      ]
    },
    {
      "cell_type": "markdown",
      "source": [
        "#### **Exercise #9:** Find and fix the errors in the code below."
      ],
      "metadata": {
        "id": "MgDIZz52WCk6"
      }
    },
    {
      "cell_type": "code",
      "source": [
        "books = 4\n",
        "pages_total = 1001\n",
        "\n",
        "average_book_length = pages_total / books\n",
        "print(average_book_length)"
      ],
      "metadata": {
        "id": "yNSHYmDWWCk6",
        "colab": {
          "base_uri": "https://localhost:8080/"
        },
        "outputId": "9de8ce8a-e710-45d6-dbce-8c00c1476b4b"
      },
      "execution_count": 20,
      "outputs": [
        {
          "output_type": "stream",
          "name": "stdout",
          "text": [
            "250.25\n"
          ]
        }
      ]
    },
    {
      "cell_type": "markdown",
      "source": [
        "#### **Exercise #10:** Comment out lines below so that the message \"Welcome to week 2 of Quantum Computing\" is printed."
      ],
      "metadata": {
        "id": "X2nI-hL8WCk6"
      }
    },
    {
      "cell_type": "code",
      "source": [
        "course = \"Quantum Computing\"\n",
        "\n",
        "print(\"Welcome\")\n",
        "print(\"to week\")\n",
        "# print(1)\n",
        "# print(4)\n",
        "print(2)\n",
        "# print(3)\n",
        "# print(\"off\")\n",
        "print(\"of\")\n",
        "# print(\"off\")\n",
        "# print(\"Classical\")\n",
        "print(course)\n",
        "# print(\"Computing\")"
      ],
      "metadata": {
        "id": "V4cHNpXbWCk6",
        "colab": {
          "base_uri": "https://localhost:8080/"
        },
        "outputId": "a875672f-a011-497d-92b2-cac27ee13087"
      },
      "execution_count": 21,
      "outputs": [
        {
          "output_type": "stream",
          "name": "stdout",
          "text": [
            "Welcome\n",
            "to week\n",
            "2\n",
            "of\n",
            "Quantum Computing\n"
          ]
        }
      ]
    },
    {
      "cell_type": "markdown",
      "source": [
        "#### **Exercise #11:** The code below is fully written and working as intended. But, it needs comments explaining what it is doing! Write one sentence in each blank comment explaining the code beneath it. The first comment is already completed for you. NOTE: there are many correct answers to this problem! Just make your comments are brief and helpful."
      ],
      "metadata": {
        "id": "3SoiyxROWCk6"
      }
    },
    {
      "cell_type": "code",
      "source": [
        "# set my age and my friend's age\n",
        "my_age = 30\n",
        "friends_age = 34\n",
        "\n",
        "# multiply mine and my friends' age by 12\n",
        "my_age = my_age * 12\n",
        "friends_age = friends_age * 12\n",
        "\n",
        "# find the difference between my age and my friends' age and print the result.\n",
        "diff = friends_age - my_age\n",
        "print(diff)"
      ],
      "metadata": {
        "id": "w6iVQGm_WCk6"
      },
      "execution_count": null,
      "outputs": []
    },
    {
      "cell_type": "markdown",
      "source": [
        "#### **Exercise #12:** Complete the function below so that it multiplies the two arguments and prints \"Those multiply together to be [result of multiplication]\". "
      ],
      "metadata": {
        "id": "7ibIwi7hde3d"
      }
    },
    {
      "cell_type": "code",
      "source": [
        "def mult(num1, num2):\n",
        "\n",
        "  m = num1 * num2\n",
        "   \n",
        "  # print out the result\n",
        "  print(\"Those multiply together to be\", m)"
      ],
      "metadata": {
        "id": "7bWi38HUde3e"
      },
      "execution_count": 24,
      "outputs": []
    },
    {
      "cell_type": "markdown",
      "source": [
        "#### **Exercise #13:** Complete the function below so that it returns the result of checking if the argument is equal to 10."
      ],
      "metadata": {
        "id": "HAiEbDgzeRNB"
      }
    },
    {
      "cell_type": "code",
      "source": [
        "def equals_10(num):\n",
        "  if num == 10:\n",
        "    return True"
      ],
      "metadata": {
        "id": "6lSQ-w6EeRNB"
      },
      "execution_count": 28,
      "outputs": []
    },
    {
      "cell_type": "markdown",
      "source": [
        "#### **Exercise #14:** Complete the function below so that it prints out the two arguments (`name1` and `name2`) on their own lines and returns the string \"Welcome, [name 1] and [name 2]\"."
      ],
      "metadata": {
        "id": "aBT5kcMXejxi"
      }
    },
    {
      "cell_type": "code",
      "source": [
        "def welcome(name1, name2):\n",
        "\n",
        "  # print arguments on separate lines\n",
        "  print(name1)\n",
        "  print(name2)\n",
        "  # return welcome message\n",
        "  return \"\".join([\"Welcome, \", name1, \" and \", name2])"
      ],
      "metadata": {
        "id": "DFzvvMzdejxj"
      },
      "execution_count": 34,
      "outputs": []
    },
    {
      "cell_type": "markdown",
      "source": [
        "#### **Exercise #15:** Print the 0th element of the list below."
      ],
      "metadata": {
        "id": "xY54dbQKfJ0H"
      }
    },
    {
      "cell_type": "code",
      "source": [
        "my_list = [\"apples\", \"pears\", \"bananas\"]\n",
        "print(my_list[0])"
      ],
      "metadata": {
        "id": "4iXIaUAIfJ0R",
        "colab": {
          "base_uri": "https://localhost:8080/"
        },
        "outputId": "2d2b8ab2-f25a-4ffc-f9e6-54f6fdb4ec3e"
      },
      "execution_count": 35,
      "outputs": [
        {
          "output_type": "stream",
          "name": "stdout",
          "text": [
            "apples\n"
          ]
        }
      ]
    },
    {
      "cell_type": "markdown",
      "source": [
        "#### **Exercise #16:** Multiply the elements of the list below and print the result."
      ],
      "metadata": {
        "id": "yxC5vdLkfaiA"
      }
    },
    {
      "cell_type": "code",
      "source": [
        "my_list = [-0.5, 1000, -2]\n",
        "result = 1\n",
        "for i in my_list:\n",
        "  result = i * result\n",
        "print(result)"
      ],
      "metadata": {
        "id": "dWGcbfu6faiB",
        "colab": {
          "base_uri": "https://localhost:8080/"
        },
        "outputId": "714315d2-a5d8-47b6-e85a-0b4e76b04b56"
      },
      "execution_count": 36,
      "outputs": [
        {
          "output_type": "stream",
          "name": "stdout",
          "text": [
            "1000.0\n"
          ]
        }
      ]
    },
    {
      "cell_type": "markdown",
      "source": [
        "#### **Exercise #17:** Modify the list below so that it looks like: [1, 2, 3, 4]."
      ],
      "metadata": {
        "id": "XpYVxnaSftfi"
      }
    },
    {
      "cell_type": "code",
      "source": [
        "my_list = [0, 1, 2, 5]\n",
        "for i in range(len(my_list)):\n",
        "  if my_list[i] == 5:\n",
        "    my_list[i] = 4\n",
        "print(my_list)"
      ],
      "metadata": {
        "id": "xnByWbV8ftfj",
        "colab": {
          "base_uri": "https://localhost:8080/"
        },
        "outputId": "8494dc4d-69af-4025-ba96-6efd6c6cc9ab"
      },
      "execution_count": 38,
      "outputs": [
        {
          "output_type": "stream",
          "name": "stdout",
          "text": [
            "[0, 1, 2, 4]\n"
          ]
        }
      ]
    },
    {
      "cell_type": "markdown",
      "source": [
        "#### **Exercise #18:** You're going to the grocery store and want to use python to store your grocery list. You realize that you already have cereal and milk, but need bread and cheese. *Replace* \"cereal\" and \"milk\" with \"bread\" and \"cheese\" in the list below. Print the updated list."
      ],
      "metadata": {
        "id": "i8BPMyQ8gRYt"
      }
    },
    {
      "cell_type": "code",
      "source": [
        "grocery_list = [\"apples\", \"bananas\", \"cereal\", \"milk\", \"flour\"]\n",
        "for i in range(len(grocery_list)):\n",
        "  if grocery_list[i] == \"cereal\":\n",
        "    grocery_list[i] = \"bread\"\n",
        "  if grocery_list[i] == \"milk\":\n",
        "    grocery_list[i] = \"cheese\"\n",
        "print(grocery_list)"
      ],
      "metadata": {
        "id": "AaTw1oMvgRYt",
        "colab": {
          "base_uri": "https://localhost:8080/"
        },
        "outputId": "7b7838e2-8a7e-4570-bab2-d152cae44af3"
      },
      "execution_count": 41,
      "outputs": [
        {
          "output_type": "stream",
          "name": "stdout",
          "text": [
            "['apples', 'bananas', 'bread', 'cheese', 'flour']\n"
          ]
        }
      ]
    },
    {
      "cell_type": "markdown",
      "source": [
        "#### **Exercise #19:** Create a list containing the elements \"superposition\", \"interference\", and \"entanglement\". Using the list, print out the message \"These are important properties of quantum mechanics: superposition, interference, entanglement\". "
      ],
      "metadata": {
        "id": "p1HTQGRwi7nt"
      }
    },
    {
      "cell_type": "code",
      "source": [
        "l_list = [ \"superposition\", \"interference\", \"entanglement\"]\n",
        "print(\"These are important properties of quantum mechanics:\", \", \".join(l_list))"
      ],
      "metadata": {
        "id": "jBdCo2T4i7nu",
        "colab": {
          "base_uri": "https://localhost:8080/"
        },
        "outputId": "76f9c87e-40db-411a-917d-bff10a16d181"
      },
      "execution_count": 66,
      "outputs": [
        {
          "output_type": "stream",
          "name": "stdout",
          "text": [
            "These are important properties of quantum mechanics: superposition, interference, entanglement\n"
          ]
        }
      ]
    },
    {
      "cell_type": "markdown",
      "source": [
        "#### **Exercise #20:** Now, add the element \"measurement\" to the list and print the message \"These are important properties of quantum mechanics: measurement, superposition, entanglement, interference\" (in this exact order)."
      ],
      "metadata": {
        "id": "A0ljpx5-j1Bo"
      }
    },
    {
      "cell_type": "code",
      "source": [
        "l_list.append(\"measurement\")\n",
        "print(\"These are important properties of quantum mechanics: %s, %s, %s, %s\" % (l_list[3], l_list[0], l_list[2],l_list[1]))"
      ],
      "metadata": {
        "id": "fUS7TnoLj1Bp",
        "colab": {
          "base_uri": "https://localhost:8080/"
        },
        "outputId": "e9181743-bc6c-4d84-ee75-cbd67f6a1882"
      },
      "execution_count": 71,
      "outputs": [
        {
          "output_type": "stream",
          "name": "stdout",
          "text": [
            "These are important properties of quantum mechanics: measurement, superposition, entanglement, interference\n"
          ]
        }
      ]
    },
    {
      "cell_type": "markdown",
      "source": [
        "#### **Exercise #21:** Complete the function below to return the sum of the first two elements of the list provided."
      ],
      "metadata": {
        "id": "n-OmBy6v8o-c"
      }
    },
    {
      "cell_type": "code",
      "source": [
        "def sum_2(my_list):\n",
        "\n",
        "  return my_list[0] + my_list[1]"
      ],
      "metadata": {
        "id": "vAbVa-0S8-Oa"
      },
      "execution_count": 74,
      "outputs": []
    },
    {
      "cell_type": "markdown",
      "source": [
        "#### **Exercise #22:** Comment out lines below so that the function returns a string with only the first three elements of the list provided."
      ],
      "metadata": {
        "id": "3NKMjhAphyeZ"
      }
    },
    {
      "cell_type": "code",
      "source": [
        "def first_3_string(my_list):\n",
        "\n",
        "  out = \"\"\n",
        "  # out = out + \" \" + str(my_list)\n",
        "  # out = out + \" \" + str(my_list[3])\n",
        "  out = out + \" \" + str(my_list[0])\n",
        "  # out = out + \" \" + str(my_list[4])\n",
        "  # out = out + \" \" + str(my_list[3])\n",
        "  out = out + \" \" + str(my_list[1])\n",
        "  # out = out + \" \" + str(my_list[3])\n",
        "  out = out + \" \" + str(my_list[2])\n",
        "\n",
        "  return out"
      ],
      "metadata": {
        "id": "M6Aunk0Whyei"
      },
      "execution_count": 78,
      "outputs": []
    },
    {
      "cell_type": "markdown",
      "source": [
        "---\n",
        "© 2022 The Coding School, All rights reserved"
      ],
      "metadata": {
        "id": "Zwmzj6kSi7nv"
      }
    }
  ]
}