{
  "cells": [
    {
      "cell_type": "markdown",
      "metadata": {
        "id": "view-in-github",
        "colab_type": "text"
      },
      "source": [
        "<a href=\"https://colab.research.google.com/github/gitwit-mistry/ws1/blob/master/QXQ_YLC_HW1_USE.ipynb\" target=\"_parent\"><img src=\"https://colab.research.google.com/assets/colab-badge.svg\" alt=\"Open In Colab\"/></a>"
      ]
    },
    {
      "cell_type": "markdown",
      "metadata": {
        "id": "VpJoSzHkmseh"
      },
      "source": [
        "# **Homework - Week 1 (Optional Practice)**\n",
        "\n",
        "---\n",
        "**Topics Covered in the Homework:**\n",
        "\n",
        "*   Print functions\n",
        "*   Variables\n",
        "*   Arithmetic operators\n",
        "*   Comparisons\n",
        "*   Lists\n",
        "*   Functions\n",
        "\n",
        "\n",
        "\n",
        "**NOTE:** This Python practice is **optional**. These problems are intended to give you some more practice with the Python concepts we have learned. It is a good idea to try at least one or two problems in each section, but if you are confident with that material then you can skip the rest of the problems and move onto the next section.\n",
        "\n",
        "---"
      ]
    },
    {
      "cell_type": "markdown",
      "metadata": {
        "id": "4Ft6xAhwYqvN",
        "jp-MarkdownHeadingCollapsed": true,
        "tags": []
      },
      "source": [
        "## **The Print Function**\n",
        "---"
      ]
    },
    {
      "cell_type": "markdown",
      "metadata": {
        "id": "XQ3zpD9G_rb3",
        "tags": []
      },
      "source": [
        "#### **Problem #1:** Print `Hello friends.`"
      ]
    },
    {
      "cell_type": "code",
      "execution_count": null,
      "metadata": {
        "id": "czESqJz_AKQP",
        "colab": {
          "base_uri": "https://localhost:8080/"
        },
        "outputId": "7a43c5e3-e105-4a31-8634-655418d3f704"
      },
      "outputs": [
        {
          "output_type": "stream",
          "name": "stdout",
          "text": [
            "Hello friends\n"
          ]
        }
      ],
      "source": [
        "print(\"Hello friends\")"
      ]
    },
    {
      "cell_type": "markdown",
      "metadata": {
        "id": "QinoVuPOAdBg"
      },
      "source": [
        "#### **Problem #2:** Print the number `10`."
      ]
    },
    {
      "cell_type": "code",
      "execution_count": null,
      "metadata": {
        "id": "z4kNYrt2Nj0W",
        "colab": {
          "base_uri": "https://localhost:8080/"
        },
        "outputId": "dbb5cbd6-82a0-4d29-9c4b-869b29f69203"
      },
      "outputs": [
        {
          "output_type": "stream",
          "name": "stdout",
          "text": [
            "10\n"
          ]
        }
      ],
      "source": [
        "print(10)"
      ]
    },
    {
      "cell_type": "markdown",
      "metadata": {
        "id": "oMCHyhfet4wi"
      },
      "source": [
        "#### **Problem #3:** Print the names of three countries."
      ]
    },
    {
      "cell_type": "code",
      "source": [
        "print(\"India\", \"United States of America\", \"Russia\")"
      ],
      "metadata": {
        "id": "kwzObg5POhPY",
        "colab": {
          "base_uri": "https://localhost:8080/"
        },
        "outputId": "a6ec7337-a9f6-4d01-e41e-cc309d16cec8"
      },
      "execution_count": null,
      "outputs": [
        {
          "output_type": "stream",
          "name": "stdout",
          "text": [
            "India United States of America Russia\n"
          ]
        }
      ]
    },
    {
      "cell_type": "markdown",
      "metadata": {
        "id": "brKDsi2BuT75"
      },
      "source": [
        "#### **Problem #4:** Print the year."
      ]
    },
    {
      "cell_type": "code",
      "execution_count": null,
      "metadata": {
        "id": "9liBz_fUus6T",
        "colab": {
          "base_uri": "https://localhost:8080/"
        },
        "outputId": "f507168e-67b9-4ff0-9b29-d89ba555f88e"
      },
      "outputs": [
        {
          "output_type": "stream",
          "name": "stdout",
          "text": [
            "2022\n"
          ]
        }
      ],
      "source": [
        "from datetime import date\n",
        "print(date.today().year)"
      ]
    },
    {
      "cell_type": "markdown",
      "metadata": {
        "id": "eiJEhAoAalKG",
        "jp-MarkdownHeadingCollapsed": true,
        "tags": []
      },
      "source": [
        "## **Variables**"
      ]
    },
    {
      "cell_type": "markdown",
      "metadata": {
        "id": "DrNIKf1TAo1z"
      },
      "source": [
        "#### **Problem #1:** Create a variable called `popular_name` and assign it to the name 'Olivia'."
      ]
    },
    {
      "cell_type": "code",
      "execution_count": null,
      "metadata": {
        "id": "sVICWNIOAx2V"
      },
      "outputs": [],
      "source": [
        "popular_name = \"Olivia\""
      ]
    },
    {
      "cell_type": "markdown",
      "metadata": {
        "id": "oLDz58wguUFM"
      },
      "source": [
        "#### **Problem #2:** Create a variable `birth_year` and set it equal to the year your were born. Then print, `\"I was born in <birth_year>\"`"
      ]
    },
    {
      "cell_type": "code",
      "execution_count": null,
      "metadata": {
        "id": "aSIo7OJHvEAu",
        "colab": {
          "base_uri": "https://localhost:8080/"
        },
        "outputId": "7ffe87ae-8bbb-49c6-df81-9306f590b95e"
      },
      "outputs": [
        {
          "output_type": "stream",
          "name": "stdout",
          "text": [
            "I was born in 1999\n"
          ]
        }
      ],
      "source": [
        "birth_year = 1999 \n",
        "print(\"I was born in\", birth_year)"
      ]
    },
    {
      "cell_type": "markdown",
      "metadata": {
        "id": "-bnV4zY2yMs8"
      },
      "source": [
        "#### **Problem #3:** Create a variable `name` and assign it to your name. Print `name`. "
      ]
    },
    {
      "cell_type": "code",
      "execution_count": null,
      "metadata": {
        "id": "xLdAevEYyREb",
        "colab": {
          "base_uri": "https://localhost:8080/"
        },
        "outputId": "13f99c9f-15df-4ac5-fbf8-ff691fabd336"
      },
      "outputs": [
        {
          "output_type": "stream",
          "name": "stdout",
          "text": [
            "Prathamesh\n"
          ]
        }
      ],
      "source": [
        "name = \"Prathamesh\"\n",
        "print(name)"
      ]
    },
    {
      "cell_type": "markdown",
      "metadata": {
        "id": "8E_hjAwnzJIJ"
      },
      "source": [
        "#### **Problem #4:** Label the following data types.\n",
        "\n",
        "**NOTE**: You can change the text below by double clicking on the cell."
      ]
    },
    {
      "cell_type": "markdown",
      "metadata": {
        "id": "UgjKT51TYqvW"
      },
      "source": [
        "```\n",
        "2 INT\n",
        "8.9 FLOAT\n",
        "\"Train\" STRING\n",
        "[\"string\"] LIST\n",
        "5.0 FLOAT\n",
        "```"
      ]
    },
    {
      "cell_type": "markdown",
      "metadata": {
        "id": "GBHg9Rpo3CUS",
        "tags": []
      },
      "source": [
        "#### **Problem #5:** Using only variables, print the statement `\"I love coding\"`."
      ]
    },
    {
      "cell_type": "code",
      "execution_count": null,
      "metadata": {
        "id": "p2ZOU4TrNj0c",
        "colab": {
          "base_uri": "https://localhost:8080/"
        },
        "outputId": "5553d0ee-f225-4ee9-e6f3-9b37fe0f9fb8"
      },
      "outputs": [
        {
          "output_type": "stream",
          "name": "stdout",
          "text": [
            "I love coding\n"
          ]
        }
      ],
      "source": [
        "var_1 = \"I\"\n",
        "var_2 = \"love\"\n",
        "var_3 = \"coding\"\n",
        "print(var_1,var_2,var_3)"
      ]
    },
    {
      "cell_type": "markdown",
      "metadata": {
        "id": "X5NDfAeTa3HX",
        "jp-MarkdownHeadingCollapsed": true,
        "tags": []
      },
      "source": [
        "## **Arithmetic**"
      ]
    },
    {
      "cell_type": "markdown",
      "metadata": {
        "id": "pHe7t_BKNj0c"
      },
      "source": [
        "#### **Problem #1**: Print the result of 6 divided by 3."
      ]
    },
    {
      "cell_type": "code",
      "execution_count": null,
      "metadata": {
        "id": "M8PLR4bQNj0c",
        "colab": {
          "base_uri": "https://localhost:8080/"
        },
        "outputId": "dcd7ce93-1581-474b-f71f-bc61019c9885"
      },
      "outputs": [
        {
          "output_type": "stream",
          "name": "stdout",
          "text": [
            "2.0\n"
          ]
        }
      ],
      "source": [
        "print(6/3)"
      ]
    },
    {
      "cell_type": "markdown",
      "source": [
        "#### **Problem #2**: Print 2 + 2."
      ],
      "metadata": {
        "id": "VZzbhUgsR1Qq"
      }
    },
    {
      "cell_type": "code",
      "source": [
        "print(2 + 2)"
      ],
      "metadata": {
        "id": "xRZbaJ9XR_w3",
        "colab": {
          "base_uri": "https://localhost:8080/"
        },
        "outputId": "c39e90e0-0887-49bb-9528-e6ad19ef9d70"
      },
      "execution_count": null,
      "outputs": [
        {
          "output_type": "stream",
          "name": "stdout",
          "text": [
            "4\n"
          ]
        }
      ]
    },
    {
      "cell_type": "markdown",
      "metadata": {
        "id": "rn1m4Qxf404c",
        "tags": []
      },
      "source": [
        "####  **Problem #3:** Use code to solve this problem: Jenny had 25 marbles. She received ten more from her best friend, Alexa. Jenny's younger brother took 20 marbles from Jenny's room. How many marbles does Jenny have now?"
      ]
    },
    {
      "cell_type": "code",
      "execution_count": null,
      "metadata": {
        "id": "fIwSmGAX43HV",
        "colab": {
          "base_uri": "https://localhost:8080/"
        },
        "outputId": "23e6f383-3b74-475c-e6fc-0bc229e41fd6"
      },
      "outputs": [
        {
          "output_type": "stream",
          "name": "stdout",
          "text": [
            "15\n"
          ]
        }
      ],
      "source": [
        "marbles_with_jenny = 25\n",
        "marbles_from_alexa = 10\n",
        "total_marbels_with_jenny = marbled_with_jenny + marbled_from_alexa\n",
        "marbles_taken_by_brother = 20\n",
        "marbles_remaining_with_jenny = total_marbels_with_jenny - marbles_taken_by_brother\n",
        "print(marbles_remaining_with_jenny)"
      ]
    },
    {
      "cell_type": "markdown",
      "metadata": {
        "jp-MarkdownHeadingCollapsed": true,
        "tags": [],
        "id": "EDlmhlMBNj0e"
      },
      "source": [
        "## **Comments and Debugging**"
      ]
    },
    {
      "cell_type": "markdown",
      "metadata": {
        "id": "BflShJAaNj0f"
      },
      "source": [
        "\n",
        "\n",
        "```\n",
        "# This is formatted as code\n",
        "```\n",
        "\n",
        "####  **Problem #1**: The code below is intended to output the number 6, but this doesn't happen when you run it (try it for yourself). Correct the code so that it works properly."
      ]
    },
    {
      "cell_type": "code",
      "execution_count": null,
      "metadata": {
        "id": "mvU7yxGONj0f",
        "outputId": "6d1f9ca4-41dd-4502-febf-6cc968ac0793",
        "colab": {
          "base_uri": "https://localhost:8080/"
        }
      },
      "outputs": [
        {
          "output_type": "stream",
          "name": "stdout",
          "text": [
            "6\n"
          ]
        }
      ],
      "source": [
        "x = 12\n",
        "y = 2\n",
        "print(int(x / y))"
      ]
    },
    {
      "cell_type": "markdown",
      "metadata": {
        "id": "YW6VJecNNj0g"
      },
      "source": [
        "####  **Problem #2**: Identify the errors in the following code: \n"
      ]
    },
    {
      "cell_type": "code",
      "source": [
        "question = \"What is a collection of quantum gates called?\"\n",
        "print(\"My question is \" + question)"
      ],
      "metadata": {
        "id": "okwYG0P1SioZ",
        "colab": {
          "base_uri": "https://localhost:8080/"
        },
        "outputId": "9fe2d206-eb34-4fa9-bad4-07da353c3bda"
      },
      "execution_count": null,
      "outputs": [
        {
          "output_type": "stream",
          "name": "stdout",
          "text": [
            "My question is What is a collection of quantum gates called?\n"
          ]
        }
      ]
    },
    {
      "cell_type": "markdown",
      "metadata": {
        "id": "dk6agkaXapqF",
        "jp-MarkdownHeadingCollapsed": true,
        "tags": []
      },
      "source": [
        "## **Comparisons**"
      ]
    },
    {
      "cell_type": "markdown",
      "metadata": {
        "jp-MarkdownHeadingCollapsed": true,
        "tags": [],
        "id": "UWk6NGeYNj0g"
      },
      "source": [
        "#### **Problem #1:** What will the following code output?\n",
        "```python\n",
        "num_chairs = 4\n",
        "num_people = 6\n",
        "\n",
        "print(\"Do we have enough chairs for everyone? \" + str( num_chairs >= num_people ))\n",
        "```"
      ]
    },
    {
      "cell_type": "markdown",
      "source": [
        "Do we have enough chairs for everyone? False"
      ],
      "metadata": {
        "id": "MJX9r43ZqM8f"
      }
    },
    {
      "cell_type": "markdown",
      "metadata": {
        "jp-MarkdownHeadingCollapsed": true,
        "tags": [],
        "id": "7VzPhw8vNj0h"
      },
      "source": [
        "#### **Problem #2:** Which of the following statements is `True` given this declaration of variables?\n",
        "```python\n",
        "rocks = 4\n",
        "paper = 2\n",
        "scissors = 11\n",
        "```\n",
        "\n",
        "\n",
        "A) `rocks < paper`\n",
        "\n",
        "B) `rocks >= rocks`\n",
        "\n",
        "C) `scissors > paper`\n",
        "\n",
        "D) `paper != scissors`"
      ]
    },
    {
      "cell_type": "markdown",
      "source": [
        "True: B, C, D"
      ],
      "metadata": {
        "id": "fRK_0dKXqRFb"
      }
    },
    {
      "cell_type": "markdown",
      "metadata": {
        "tags": [],
        "id": "Aop6a1-INj0h"
      },
      "source": [
        "#### **Problem #3:** Will the following output be `True` or `False`?"
      ]
    },
    {
      "cell_type": "code",
      "execution_count": null,
      "metadata": {
        "id": "667U9dDQNj0h"
      },
      "outputs": [],
      "source": [
        "apples = 15\n",
        "oranges = 12\n",
        "apples >= oranges"
      ]
    },
    {
      "cell_type": "markdown",
      "source": [
        "True"
      ],
      "metadata": {
        "id": "8ZV5kEP9qohw"
      }
    },
    {
      "cell_type": "markdown",
      "metadata": {
        "id": "cl9xmTIm9VAf",
        "jp-MarkdownHeadingCollapsed": true,
        "tags": []
      },
      "source": [
        "## **Lists**\n",
        "---\n"
      ]
    },
    {
      "cell_type": "markdown",
      "metadata": {
        "id": "piqucBgPUi1O"
      },
      "source": [
        "Use the list `temperatures` below to answer Problems #1-4."
      ]
    },
    {
      "cell_type": "code",
      "execution_count": null,
      "metadata": {
        "id": "47FMiwaiUfr5"
      },
      "outputs": [],
      "source": [
        "temperatures = [60, 66, 42, 38, 71]"
      ]
    },
    {
      "cell_type": "markdown",
      "metadata": {
        "id": "uSCTnndlT-mB"
      },
      "source": [
        "#### **Problem #1:**  Replace `42` with 50."
      ]
    },
    {
      "cell_type": "code",
      "execution_count": null,
      "metadata": {
        "id": "vJJJmW0Z3KcH",
        "colab": {
          "base_uri": "https://localhost:8080/"
        },
        "outputId": "12813d15-e842-49ac-b5bc-53ea300a5b5f"
      },
      "outputs": [
        {
          "output_type": "execute_result",
          "data": {
            "text/plain": [
              "[60, 66, 50, 38, 71]"
            ]
          },
          "metadata": {},
          "execution_count": 103
        }
      ],
      "source": [
        "temperatures[2] = 50\n",
        "print\n",
        "(temperatures)"
      ]
    },
    {
      "cell_type": "markdown",
      "metadata": {
        "id": "nvxk8oq1U_UT"
      },
      "source": [
        "#### **Problem #2:** Drop value 71. "
      ]
    },
    {
      "cell_type": "code",
      "execution_count": null,
      "metadata": {
        "id": "qiwH5yUL3Tw6"
      },
      "outputs": [],
      "source": [
        "temperatures = temperatures[:-1]"
      ]
    },
    {
      "cell_type": "code",
      "source": [
        "print(temperatures)"
      ],
      "metadata": {
        "colab": {
          "base_uri": "https://localhost:8080/"
        },
        "id": "6Oq34Ld6rdHJ",
        "outputId": "3158fba4-24ec-4c60-f70c-fbfed3e583ad"
      },
      "execution_count": null,
      "outputs": [
        {
          "output_type": "stream",
          "name": "stdout",
          "text": [
            "[60, 66, 50, 38]\n"
          ]
        }
      ]
    },
    {
      "cell_type": "markdown",
      "metadata": {
        "id": "B3IYGSpOVbnt"
      },
      "source": [
        "#### **Problem #3:** Add value 65."
      ]
    },
    {
      "cell_type": "code",
      "execution_count": null,
      "metadata": {
        "id": "xaQuluOc3adP",
        "colab": {
          "base_uri": "https://localhost:8080/"
        },
        "outputId": "019cf9b2-1c54-43b3-9186-a40ad36e32d0"
      },
      "outputs": [
        {
          "output_type": "stream",
          "name": "stdout",
          "text": [
            "[60, 66, 50, 38, 65]\n"
          ]
        }
      ],
      "source": [
        "temperatures.append(65)\n",
        "print(temperatures)"
      ]
    },
    {
      "cell_type": "markdown",
      "metadata": {
        "id": "RvCS8T9QVsOq"
      },
      "source": [
        "#### **Problem #4** Replace 65 with 85."
      ]
    },
    {
      "cell_type": "code",
      "execution_count": null,
      "metadata": {
        "id": "wP8-nB7A3iS7"
      },
      "outputs": [],
      "source": [
        "z = temperatures.copy()"
      ]
    },
    {
      "cell_type": "code",
      "source": [
        "print(temperatures)\n",
        "for i in range(len(temperatures)):\n",
        "  if temperatures[i] == 65:\n",
        "    temperatures[i] = 85\n",
        "print(temperatures)"
      ],
      "metadata": {
        "colab": {
          "base_uri": "https://localhost:8080/"
        },
        "id": "OlGqUsvcssHs",
        "outputId": "67a5f3c8-4199-4481-876b-acd64587588f"
      },
      "execution_count": null,
      "outputs": [
        {
          "output_type": "stream",
          "name": "stdout",
          "text": [
            "[60, 66, 50, 38, 85]\n",
            "[60, 66, 50, 38, 85]\n"
          ]
        }
      ]
    },
    {
      "cell_type": "markdown",
      "metadata": {
        "id": "ZQgiZ51bWriK"
      },
      "source": [
        "Use the list `subjects` below to answer Problems #5-9."
      ]
    },
    {
      "cell_type": "code",
      "execution_count": null,
      "metadata": {
        "id": "J2hhXPkoWwCB"
      },
      "outputs": [],
      "source": [
        "subjects = [\"Math\", \"Physics\", \"Chemistry\", \"Biology\"]"
      ]
    },
    {
      "cell_type": "markdown",
      "metadata": {
        "id": "lASyq8zGW1xF"
      },
      "source": [
        "#### **Problem #5:** Add Calculus."
      ]
    },
    {
      "cell_type": "code",
      "execution_count": null,
      "metadata": {
        "id": "M6McB8Tt4RiJ",
        "colab": {
          "base_uri": "https://localhost:8080/"
        },
        "outputId": "7cdc104b-02f6-41b0-fe82-1567c1c97ce8"
      },
      "outputs": [
        {
          "output_type": "stream",
          "name": "stdout",
          "text": [
            "['Math', 'Physics', 'Chemistry', 'Biology', 'Calculus']\n"
          ]
        }
      ],
      "source": [
        "subjects.append(\"Calculus\")\n",
        "print(subjects)"
      ]
    },
    {
      "cell_type": "markdown",
      "metadata": {
        "id": "RmwkksaCW4gX"
      },
      "source": [
        "#### **Problem #6:** Drop Math."
      ]
    },
    {
      "cell_type": "code",
      "execution_count": null,
      "metadata": {
        "id": "zE0vh7R44XzU",
        "colab": {
          "base_uri": "https://localhost:8080/"
        },
        "outputId": "2bdbd33c-570d-4f98-ecf0-cc012a856ddc"
      },
      "outputs": [
        {
          "output_type": "stream",
          "name": "stdout",
          "text": [
            "['Physics', 'Chemistry', 'Biology', 'Calculus']\n"
          ]
        }
      ],
      "source": [
        "subjects.remove(\"Math\")\n",
        "print(subjects)"
      ]
    },
    {
      "cell_type": "markdown",
      "metadata": {
        "id": "jZ8AJlrVW5k2"
      },
      "source": [
        "#### **Problem #7:** Replace Physics with AP Physics."
      ]
    },
    {
      "cell_type": "code",
      "execution_count": null,
      "metadata": {
        "id": "NGn2rRQl4EoB",
        "colab": {
          "base_uri": "https://localhost:8080/"
        },
        "outputId": "3e56eef5-358c-40be-d5f8-663aa64313ff"
      },
      "outputs": [
        {
          "output_type": "stream",
          "name": "stdout",
          "text": [
            "['AP Physics', 'Chemistry', 'Biology', 'Calculus']\n"
          ]
        }
      ],
      "source": [
        "for i in range(len(subjects)):\n",
        "  if subjects[i] == 'Physics':\n",
        "    subjects[i] = 'AP Physics'\n",
        "print(subjects)"
      ]
    },
    {
      "cell_type": "markdown",
      "metadata": {
        "id": "Xj6gU-xDW9Oj"
      },
      "source": [
        "#### **Problem #8:** Replace Biology with AP Bio."
      ]
    },
    {
      "cell_type": "code",
      "execution_count": null,
      "metadata": {
        "id": "sw0cpC5aW-oq",
        "colab": {
          "base_uri": "https://localhost:8080/"
        },
        "outputId": "8c5f85fb-86db-4225-cc44-95bd96802978"
      },
      "outputs": [
        {
          "output_type": "stream",
          "name": "stdout",
          "text": [
            "['AP Physics', 'Chemistry', 'Bio', 'Calculus']\n"
          ]
        }
      ],
      "source": [
        "for i in range(len(subjects)):\n",
        "  if subjects[i] == 'Biology':\n",
        "    subjects[i] = 'Bio'\n",
        "print(subjects)"
      ]
    },
    {
      "cell_type": "markdown",
      "metadata": {
        "id": "-2timCvfW-9g"
      },
      "source": [
        "#### **Problem #9:** Drop Calculus. "
      ]
    },
    {
      "cell_type": "code",
      "execution_count": null,
      "metadata": {
        "id": "rMxJuZ_7HvU-",
        "colab": {
          "base_uri": "https://localhost:8080/"
        },
        "outputId": "6e3cb20a-66ce-45b2-f629-6ede1acf6592"
      },
      "outputs": [
        {
          "output_type": "stream",
          "name": "stdout",
          "text": [
            "['AP Physics', 'Chemistry', 'Bio']\n"
          ]
        }
      ],
      "source": [
        "subjects.remove(\"Calculus\")\n",
        "print(subjects)"
      ]
    },
    {
      "cell_type": "markdown",
      "metadata": {
        "id": "pvoRnBcN5F00"
      },
      "source": [
        "Use the list `attendance` below to answer Problems #10-14."
      ]
    },
    {
      "cell_type": "code",
      "execution_count": null,
      "metadata": {
        "id": "JQk7FsxI5ZZD"
      },
      "outputs": [],
      "source": [
        "attendance = [\"Ellie\", \"Kyle\", \"Deiondre\", \"Zoe\", \"Joaquin\", \"Jo\", \"Liv\"]"
      ]
    },
    {
      "cell_type": "markdown",
      "metadata": {
        "id": "wnQo7Pzb5TLE"
      },
      "source": [
        "#### **Problem #10:** You forgot to add a student. Add Valentina.\n",
        "\n"
      ]
    },
    {
      "cell_type": "code",
      "execution_count": null,
      "metadata": {
        "id": "1w_O6_6w5sKK",
        "colab": {
          "base_uri": "https://localhost:8080/"
        },
        "outputId": "44e84020-c059-4f81-ca42-2e4429aa4dd5"
      },
      "outputs": [
        {
          "output_type": "stream",
          "name": "stdout",
          "text": [
            "['Ellie', 'Kyle', 'Deiondre', 'Zoe', 'Joaquin', 'Jo', 'Liv', 'Valentina']\n"
          ]
        }
      ],
      "source": [
        "attendance.append(\"Valentina\")\n",
        "print(attendance)"
      ]
    },
    {
      "cell_type": "markdown",
      "metadata": {
        "id": "Jr5a9Fxz5UOq"
      },
      "source": [
        "#### **Problem #11:** Joaquin accidentally got marked present when he is absent. Remove Joaquin."
      ]
    },
    {
      "cell_type": "code",
      "execution_count": null,
      "metadata": {
        "id": "Sl0DUTvr6T0v",
        "colab": {
          "base_uri": "https://localhost:8080/"
        },
        "outputId": "4e77a05c-47e7-4245-94a0-b2826746e5bd"
      },
      "outputs": [
        {
          "output_type": "stream",
          "name": "stdout",
          "text": [
            "['Ellie', 'Kyle', 'Deiondre', 'Zoe', 'Jo', 'Liv', 'Valentina']\n"
          ]
        }
      ],
      "source": [
        "attendance.remove(\"Joaquin\")\n",
        "print(attendance)"
      ]
    },
    {
      "cell_type": "markdown",
      "metadata": {
        "id": "rOhwfoxJ5VTz"
      },
      "source": [
        "#### **Problem #12:** It looks like one fo the names wasn't typed correctly. Change \"Jo\" to \"Josh\"."
      ]
    },
    {
      "cell_type": "code",
      "execution_count": null,
      "metadata": {
        "id": "h23BcAiN7xpL",
        "colab": {
          "base_uri": "https://localhost:8080/"
        },
        "outputId": "93721fb9-91c5-4098-8915-5b55a6b45799"
      },
      "outputs": [
        {
          "output_type": "stream",
          "name": "stdout",
          "text": [
            "['Ellie', 'Kyle', 'Deiondre', 'Zoe', 'Josh', 'Liv', 'Valentina']\n"
          ]
        }
      ],
      "source": [
        "for i in range(len(attendance)):\n",
        "  if attendance[i] == 'Jo':\n",
        "    attendance[i] = 'Josh'\n",
        "print(attendance)"
      ]
    },
    {
      "cell_type": "markdown",
      "metadata": {
        "id": "ZHXLNh_q5WXQ"
      },
      "source": [
        "#### **Problem #13:** Kyle prefers going by Ky. Update the attendance to reflect this preference."
      ]
    },
    {
      "cell_type": "code",
      "execution_count": null,
      "metadata": {
        "id": "JPihwmTT8UAj",
        "colab": {
          "base_uri": "https://localhost:8080/"
        },
        "outputId": "d4e876af-71d6-4379-da2b-dda8faedc326"
      },
      "outputs": [
        {
          "output_type": "stream",
          "name": "stdout",
          "text": [
            "['Ellie', 'Ky', 'Deiondre', 'Zoe', 'Josh', 'Liv', 'Valentina']\n"
          ]
        }
      ],
      "source": [
        "for i in range(len(attendance)):\n",
        "  if attendance[i] == 'Kyle':\n",
        "    attendance[i] = 'Ky'\n",
        "print(attendance)"
      ]
    },
    {
      "cell_type": "markdown",
      "metadata": {
        "id": "H1x4fWj65YLV"
      },
      "source": [
        "#### **Problem #14:** Another student arrived. Add Akilah to the attendance."
      ]
    },
    {
      "cell_type": "code",
      "execution_count": null,
      "metadata": {
        "id": "pgMjpUr18a8a",
        "colab": {
          "base_uri": "https://localhost:8080/"
        },
        "outputId": "31bbf201-a4bb-4922-9171-23dbfd66d001"
      },
      "outputs": [
        {
          "output_type": "stream",
          "name": "stdout",
          "text": [
            "['Ellie', 'Ky', 'Deiondre', 'Zoe', 'Josh', 'Liv', 'Valentina', 'Akilah']\n"
          ]
        }
      ],
      "source": [
        "attendance.append(\"Akilah\")\n",
        "print(attendance)"
      ]
    },
    {
      "cell_type": "markdown",
      "metadata": {
        "jp-MarkdownHeadingCollapsed": true,
        "tags": [],
        "id": "y6F6xQ6BNj0w"
      },
      "source": [
        "## **Defining Functions**\n",
        "---"
      ]
    },
    {
      "cell_type": "markdown",
      "metadata": {
        "id": "0sR3rHJK_TdA"
      },
      "source": [
        "#### **Problem #1.** How many parameters does the following function have?\n",
        "\n",
        "```\n",
        "def hello():\n",
        "  print(\"Hello!\")\n",
        "```"
      ]
    },
    {
      "cell_type": "code",
      "source": [
        "0"
      ],
      "metadata": {
        "id": "0CDKIFXwapfs",
        "colab": {
          "base_uri": "https://localhost:8080/"
        },
        "outputId": "0c926778-3a52-4450-b899-0cc41c49ad84"
      },
      "execution_count": null,
      "outputs": [
        {
          "output_type": "execute_result",
          "data": {
            "text/plain": [
              "0"
            ]
          },
          "metadata": {},
          "execution_count": 154
        }
      ]
    },
    {
      "cell_type": "markdown",
      "metadata": {
        "id": "xbH67uoR_S5W"
      },
      "source": [
        "#### **Problem #2:** Looking at the following function, describe what it will do when called.\n",
        "```\n",
        "def mystery(x, y):\n",
        "  print(x + y)\n",
        "```"
      ]
    },
    {
      "cell_type": "markdown",
      "source": [
        "The above function will add the 2 parameters x and y."
      ],
      "metadata": {
        "id": "UwMx0igf1wZT"
      }
    },
    {
      "cell_type": "markdown",
      "metadata": {
        "id": "ACGVYZ6X_UYX"
      },
      "source": [
        "#### **Problem #3:** How many paramters does the following function have?\n",
        "```\n",
        "def params(param):\n",
        "  print(\"You passed \" + str(param) + \" as a parameter\")\n",
        "```"
      ]
    },
    {
      "cell_type": "code",
      "execution_count": null,
      "metadata": {
        "id": "O6j_ViRtAnPz",
        "colab": {
          "base_uri": "https://localhost:8080/"
        },
        "outputId": "bea6f2b1-7902-427a-f49b-1f97f9b1d6a6"
      },
      "outputs": [
        {
          "output_type": "execute_result",
          "data": {
            "text/plain": [
              "1"
            ]
          },
          "metadata": {},
          "execution_count": 156
        }
      ],
      "source": [
        "1"
      ]
    },
    {
      "cell_type": "markdown",
      "metadata": {
        "id": "K9MYkRd4_Vas"
      },
      "source": [
        "#### **Problem #4:** Fill in the following function so it will add the first two numbers, then subtract the third and print the result."
      ]
    },
    {
      "cell_type": "code",
      "execution_count": null,
      "metadata": {
        "id": "V7iFh61xA1H0"
      },
      "outputs": [],
      "source": [
        "def math_func(num1, num2, num3):\n",
        "  #add code here\n",
        "  result = num1 + num2 - num3\n",
        "  print(result)"
      ]
    },
    {
      "cell_type": "markdown",
      "metadata": {
        "id": "ToAzo9oZ_Whu"
      },
      "source": [
        "#### **Problem #5:** Fill in the following function so it prints the two names in the format: `\"Name One: <name1>, Name Two: <name2>\"`"
      ]
    },
    {
      "cell_type": "code",
      "execution_count": null,
      "metadata": {
        "id": "5YOE6WxLBPIm"
      },
      "outputs": [],
      "source": [
        "def two_names(name1, name2):\n",
        "  #add code here\n",
        "  print(\"Name One: %s, Name Two: %s\" % (name1, name2))"
      ]
    },
    {
      "cell_type": "markdown",
      "metadata": {
        "id": "DWr4zAvn_ZwQ"
      },
      "source": [
        "#### **Challenge Problem:** Create a function that accepts two strings and prints both of them with a space between them."
      ]
    },
    {
      "cell_type": "code",
      "source": [
        "def two_strings(str1, str2):\n",
        "  print(str1,str2)"
      ],
      "metadata": {
        "id": "WT6rnq0h2lUT"
      },
      "execution_count": null,
      "outputs": []
    },
    {
      "cell_type": "markdown",
      "metadata": {
        "id": "aVyYQFjY_a2i"
      },
      "source": [
        "#### **Challenge Problem:** Write a function that accepts two parameters. One being a list, and the other an item to add to the list. Add the item to the list, then print this new list."
      ]
    },
    {
      "cell_type": "code",
      "execution_count": null,
      "metadata": {
        "id": "I480S2upDGAa"
      },
      "outputs": [],
      "source": [
        "def add_to_list(list_name, item):\n",
        "  #add code here\n",
        "  list_name.append(item)\n",
        "  print(list_name)"
      ]
    },
    {
      "cell_type": "markdown",
      "source": [
        "---\n",
        "Copyright 2022 The Coding School, All rights reserved"
      ],
      "metadata": {
        "id": "gdpTtUR1cZT2"
      }
    },
    {
      "cell_type": "code",
      "source": [],
      "metadata": {
        "id": "bVJFQOlg53_b"
      },
      "execution_count": null,
      "outputs": []
    }
  ],
  "metadata": {
    "colab": {
      "provenance": [],
      "include_colab_link": true
    },
    "kernelspec": {
      "display_name": "Python 3 (ipykernel)",
      "language": "python",
      "name": "python3"
    },
    "language_info": {
      "codemirror_mode": {
        "name": "ipython",
        "version": 3
      },
      "file_extension": ".py",
      "mimetype": "text/x-python",
      "name": "python",
      "nbconvert_exporter": "python",
      "pygments_lexer": "ipython3",
      "version": "3.8.13"
    }
  },
  "nbformat": 4,
  "nbformat_minor": 0
}