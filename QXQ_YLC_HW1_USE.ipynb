{
  "cells": [
    {
      "cell_type": "markdown",
      "metadata": {
        "id": "view-in-github",
        "colab_type": "text"
      },
      "source": [
        "<a href=\"https://colab.research.google.com/github/gitwit-mistry/ws1/blob/master/QXQ_YLC_HW1_USE.ipynb\" target=\"_parent\"><img src=\"https://colab.research.google.com/assets/colab-badge.svg\" alt=\"Open In Colab\"/></a>"
      ]
    },
    {
      "cell_type": "markdown",
      "metadata": {
        "id": "VpJoSzHkmseh"
      },
      "source": [
        "# **Homework - Week 1 (Optional Practice)**\n",
        "\n",
        "---\n",
        "**Topics Covered in the Homework:**\n",
        "\n",
        "*   Print functions\n",
        "*   Variables\n",
        "*   Arithmetic operators\n",
        "*   Comparisons\n",
        "*   Lists\n",
        "*   Functions\n",
        "\n",
        "\n",
        "\n",
        "**NOTE:** This Python practice is **optional**. These problems are intended to give you some more practice with the Python concepts we have learned. It is a good idea to try at least one or two problems in each section, but if you are confident with that material then you can skip the rest of the problems and move onto the next section.\n",
        "\n",
        "---"
      ]
    },
    {
      "cell_type": "markdown",
      "metadata": {
        "id": "4Ft6xAhwYqvN",
        "jp-MarkdownHeadingCollapsed": true,
        "tags": []
      },
      "source": [
        "## **The Print Function**\n",
        "---"
      ]
    },
    {
      "cell_type": "markdown",
      "metadata": {
        "id": "XQ3zpD9G_rb3",
        "tags": []
      },
      "source": [
        "#### **Problem #1:** Print `Hello friends.`"
      ]
    },
    {
      "cell_type": "code",
      "execution_count": 1,
      "metadata": {
        "id": "czESqJz_AKQP",
        "colab": {
          "base_uri": "https://localhost:8080/"
        },
        "outputId": "5fd28340-46dc-4021-d710-2f52f650fef7"
      },
      "outputs": [
        {
          "output_type": "stream",
          "name": "stdout",
          "text": [
            "Hello friends\n"
          ]
        }
      ],
      "source": [
        "print(\"Hello friends\")"
      ]
    },
    {
      "cell_type": "markdown",
      "metadata": {
        "id": "QinoVuPOAdBg"
      },
      "source": [
        "#### **Problem #2:** Print the number `10`."
      ]
    },
    {
      "cell_type": "code",
      "execution_count": 2,
      "metadata": {
        "id": "z4kNYrt2Nj0W",
        "colab": {
          "base_uri": "https://localhost:8080/"
        },
        "outputId": "9a973a99-c721-4fd9-b478-9d13c802e366"
      },
      "outputs": [
        {
          "output_type": "stream",
          "name": "stdout",
          "text": [
            "10\n"
          ]
        }
      ],
      "source": [
        "print(10)"
      ]
    },
    {
      "cell_type": "markdown",
      "metadata": {
        "id": "oMCHyhfet4wi"
      },
      "source": [
        "#### **Problem #3:** Print the names of three countries."
      ]
    },
    {
      "cell_type": "code",
      "source": [
        "print(\"India\", \"United States of America\", \"Russia\")"
      ],
      "metadata": {
        "id": "kwzObg5POhPY",
        "colab": {
          "base_uri": "https://localhost:8080/"
        },
        "outputId": "0d0b277e-510d-4345-833a-3a47eccf2d2b"
      },
      "execution_count": 3,
      "outputs": [
        {
          "output_type": "stream",
          "name": "stdout",
          "text": [
            "India United States of America Russia\n"
          ]
        }
      ]
    },
    {
      "cell_type": "markdown",
      "metadata": {
        "id": "brKDsi2BuT75"
      },
      "source": [
        "#### **Problem #4:** Print the year."
      ]
    },
    {
      "cell_type": "code",
      "execution_count": 4,
      "metadata": {
        "id": "9liBz_fUus6T",
        "colab": {
          "base_uri": "https://localhost:8080/"
        },
        "outputId": "d680052d-7410-49de-f47e-d0d1992e3b9c"
      },
      "outputs": [
        {
          "output_type": "stream",
          "name": "stdout",
          "text": [
            "2022\n"
          ]
        }
      ],
      "source": [
        "from datetime import date\n",
        "print(date.today().year)"
      ]
    },
    {
      "cell_type": "markdown",
      "metadata": {
        "id": "eiJEhAoAalKG",
        "jp-MarkdownHeadingCollapsed": true,
        "tags": []
      },
      "source": [
        "## **Variables**"
      ]
    },
    {
      "cell_type": "markdown",
      "metadata": {
        "id": "DrNIKf1TAo1z"
      },
      "source": [
        "#### **Problem #1:** Create a variable called `popular_name` and assign it to the name 'Olivia'."
      ]
    },
    {
      "cell_type": "code",
      "execution_count": 5,
      "metadata": {
        "id": "sVICWNIOAx2V"
      },
      "outputs": [],
      "source": [
        "popular_name = \"Olivia\""
      ]
    },
    {
      "cell_type": "markdown",
      "metadata": {
        "id": "oLDz58wguUFM"
      },
      "source": [
        "#### **Problem #2:** Create a variable `birth_year` and set it equal to the year your were born. Then print, `\"I was born in <birth_year>\"`"
      ]
    },
    {
      "cell_type": "code",
      "execution_count": 6,
      "metadata": {
        "id": "aSIo7OJHvEAu",
        "colab": {
          "base_uri": "https://localhost:8080/"
        },
        "outputId": "65375a04-e10d-4afd-8d12-cec279423e18"
      },
      "outputs": [
        {
          "output_type": "stream",
          "name": "stdout",
          "text": [
            "I was born in 1999\n"
          ]
        }
      ],
      "source": [
        "birth_year = 1999 \n",
        "print(\"I was born in\", birth_year)"
      ]
    },
    {
      "cell_type": "markdown",
      "metadata": {
        "id": "-bnV4zY2yMs8"
      },
      "source": [
        "#### **Problem #3:** Create a variable `name` and assign it to your name. Print `name`. "
      ]
    },
    {
      "cell_type": "code",
      "execution_count": 7,
      "metadata": {
        "id": "xLdAevEYyREb",
        "colab": {
          "base_uri": "https://localhost:8080/"
        },
        "outputId": "851196dd-37a5-40cb-d3e0-690757d30679"
      },
      "outputs": [
        {
          "output_type": "stream",
          "name": "stdout",
          "text": [
            "Prathamesh\n"
          ]
        }
      ],
      "source": [
        "name = \"Prathamesh\"\n",
        "print(name)"
      ]
    },
    {
      "cell_type": "markdown",
      "metadata": {
        "id": "8E_hjAwnzJIJ"
      },
      "source": [
        "#### **Problem #4:** Label the following data types.\n",
        "\n",
        "**NOTE**: You can change the text below by double clicking on the cell."
      ]
    },
    {
      "cell_type": "markdown",
      "metadata": {
        "id": "UgjKT51TYqvW"
      },
      "source": [
        "```\n",
        "2 INT\n",
        "8.9 FLOAT\n",
        "\"Train\" STRING\n",
        "[\"string\"] LIST\n",
        "5.0 FLOAT\n",
        "```"
      ]
    },
    {
      "cell_type": "markdown",
      "metadata": {
        "id": "GBHg9Rpo3CUS",
        "tags": []
      },
      "source": [
        "#### **Problem #5:** Using only variables, print the statement `\"I love coding\"`."
      ]
    },
    {
      "cell_type": "code",
      "execution_count": 8,
      "metadata": {
        "id": "p2ZOU4TrNj0c",
        "colab": {
          "base_uri": "https://localhost:8080/"
        },
        "outputId": "fd1b58c9-a95c-44cf-c547-3473ed9b62de"
      },
      "outputs": [
        {
          "output_type": "stream",
          "name": "stdout",
          "text": [
            "I love coding\n"
          ]
        }
      ],
      "source": [
        "var_1 = \"I\"\n",
        "var_2 = \"love\"\n",
        "var_3 = \"coding\"\n",
        "print(var_1,var_2,var_3)"
      ]
    },
    {
      "cell_type": "markdown",
      "metadata": {
        "id": "X5NDfAeTa3HX",
        "jp-MarkdownHeadingCollapsed": true,
        "tags": []
      },
      "source": [
        "## **Arithmetic**"
      ]
    },
    {
      "cell_type": "markdown",
      "metadata": {
        "id": "pHe7t_BKNj0c"
      },
      "source": [
        "#### **Problem #1**: Print the result of 6 divided by 3."
      ]
    },
    {
      "cell_type": "code",
      "execution_count": 9,
      "metadata": {
        "id": "M8PLR4bQNj0c",
        "colab": {
          "base_uri": "https://localhost:8080/"
        },
        "outputId": "ea4208ae-7626-46fc-8029-a169bd713b66"
      },
      "outputs": [
        {
          "output_type": "stream",
          "name": "stdout",
          "text": [
            "2.0\n"
          ]
        }
      ],
      "source": [
        "print(6/3)"
      ]
    },
    {
      "cell_type": "markdown",
      "source": [
        "#### **Problem #2**: Print 2 + 2."
      ],
      "metadata": {
        "id": "VZzbhUgsR1Qq"
      }
    },
    {
      "cell_type": "code",
      "source": [
        "print(2 + 2)"
      ],
      "metadata": {
        "id": "xRZbaJ9XR_w3",
        "colab": {
          "base_uri": "https://localhost:8080/"
        },
        "outputId": "829ad0d3-d6ba-4822-8394-7a1d49ce664c"
      },
      "execution_count": 10,
      "outputs": [
        {
          "output_type": "stream",
          "name": "stdout",
          "text": [
            "4\n"
          ]
        }
      ]
    },
    {
      "cell_type": "markdown",
      "metadata": {
        "id": "rn1m4Qxf404c",
        "tags": []
      },
      "source": [
        "####  **Problem #3:** Use code to solve this problem: Jenny had 25 marbles. She received ten more from her best friend, Alexa. Jenny's younger brother took 20 marbles from Jenny's room. How many marbles does Jenny have now?"
      ]
    },
    {
      "cell_type": "code",
      "execution_count": 12,
      "metadata": {
        "id": "fIwSmGAX43HV",
        "colab": {
          "base_uri": "https://localhost:8080/"
        },
        "outputId": "bc266591-fb98-4150-d2ca-24799044e339"
      },
      "outputs": [
        {
          "output_type": "stream",
          "name": "stdout",
          "text": [
            "15\n"
          ]
        }
      ],
      "source": [
        "marbles_with_jenny = 25\n",
        "marbles_from_alexa = 10\n",
        "total_marbels_with_jenny = marbles_with_jenny + marbles_from_alexa\n",
        "marbles_taken_by_brother = 20\n",
        "marbles_remaining_with_jenny = total_marbels_with_jenny - marbles_taken_by_brother\n",
        "print(marbles_remaining_with_jenny)"
      ]
    },
    {
      "cell_type": "markdown",
      "metadata": {
        "jp-MarkdownHeadingCollapsed": true,
        "tags": [],
        "id": "EDlmhlMBNj0e"
      },
      "source": [
        "## **Comments and Debugging**"
      ]
    },
    {
      "cell_type": "markdown",
      "metadata": {
        "id": "BflShJAaNj0f"
      },
      "source": [
        "\n",
        "\n",
        "```\n",
        "# This is formatted as code\n",
        "```\n",
        "\n",
        "####  **Problem #1**: The code below is intended to output the number 6, but this doesn't happen when you run it (try it for yourself). Correct the code so that it works properly."
      ]
    },
    {
      "cell_type": "code",
      "execution_count": 13,
      "metadata": {
        "id": "mvU7yxGONj0f",
        "outputId": "6d51ffde-267c-4c40-d242-b181faacc0e8",
        "colab": {
          "base_uri": "https://localhost:8080/"
        }
      },
      "outputs": [
        {
          "output_type": "stream",
          "name": "stdout",
          "text": [
            "6\n"
          ]
        }
      ],
      "source": [
        "x = 12\n",
        "y = 2\n",
        "print(int(x / y))"
      ]
    },
    {
      "cell_type": "markdown",
      "metadata": {
        "id": "YW6VJecNNj0g"
      },
      "source": [
        "####  **Problem #2**: Identify the errors in the following code: \n"
      ]
    },
    {
      "cell_type": "code",
      "source": [
        "question = \"What is a collection of quantum gates called?\"\n",
        "print(\"My question is \" + question)"
      ],
      "metadata": {
        "id": "okwYG0P1SioZ",
        "colab": {
          "base_uri": "https://localhost:8080/"
        },
        "outputId": "491ca5e2-c3f6-4143-d146-70d14fd32f79"
      },
      "execution_count": 14,
      "outputs": [
        {
          "output_type": "stream",
          "name": "stdout",
          "text": [
            "My question is What is a collection of quantum gates called?\n"
          ]
        }
      ]
    },
    {
      "cell_type": "markdown",
      "metadata": {
        "id": "dk6agkaXapqF",
        "jp-MarkdownHeadingCollapsed": true,
        "tags": []
      },
      "source": [
        "## **Comparisons**"
      ]
    },
    {
      "cell_type": "markdown",
      "metadata": {
        "jp-MarkdownHeadingCollapsed": true,
        "tags": [],
        "id": "UWk6NGeYNj0g"
      },
      "source": [
        "#### **Problem #1:** What will the following code output?\n",
        "```python\n",
        "num_chairs = 4\n",
        "num_people = 6\n",
        "\n",
        "print(\"Do we have enough chairs for everyone? \" + str( num_chairs >= num_people ))\n",
        "```"
      ]
    },
    {
      "cell_type": "markdown",
      "source": [
        "Do we have enough chairs for everyone? False"
      ],
      "metadata": {
        "id": "MJX9r43ZqM8f"
      }
    },
    {
      "cell_type": "markdown",
      "metadata": {
        "jp-MarkdownHeadingCollapsed": true,
        "tags": [],
        "id": "7VzPhw8vNj0h"
      },
      "source": [
        "#### **Problem #2:** Which of the following statements is `True` given this declaration of variables?\n",
        "```python\n",
        "rocks = 4\n",
        "paper = 2\n",
        "scissors = 11\n",
        "```\n",
        "\n",
        "\n",
        "A) `rocks < paper`\n",
        "\n",
        "B) `rocks >= rocks`\n",
        "\n",
        "C) `scissors > paper`\n",
        "\n",
        "D) `paper != scissors`"
      ]
    },
    {
      "cell_type": "markdown",
      "source": [
        "True: B, C, D"
      ],
      "metadata": {
        "id": "fRK_0dKXqRFb"
      }
    },
    {
      "cell_type": "markdown",
      "metadata": {
        "tags": [],
        "id": "Aop6a1-INj0h"
      },
      "source": [
        "#### **Problem #3:** Will the following output be `True` or `False`?"
      ]
    },
    {
      "cell_type": "code",
      "execution_count": 15,
      "metadata": {
        "id": "667U9dDQNj0h",
        "colab": {
          "base_uri": "https://localhost:8080/"
        },
        "outputId": "92e7d179-b733-4358-8840-1c9a14040e3c"
      },
      "outputs": [
        {
          "output_type": "execute_result",
          "data": {
            "text/plain": [
              "True"
            ]
          },
          "metadata": {},
          "execution_count": 15
        }
      ],
      "source": [
        "apples = 15\n",
        "oranges = 12\n",
        "apples >= oranges"
      ]
    },
    {
      "cell_type": "markdown",
      "source": [
        "True"
      ],
      "metadata": {
        "id": "8ZV5kEP9qohw"
      }
    },
    {
      "cell_type": "markdown",
      "metadata": {
        "id": "cl9xmTIm9VAf",
        "jp-MarkdownHeadingCollapsed": true,
        "tags": []
      },
      "source": [
        "## **Lists**\n",
        "---\n"
      ]
    },
    {
      "cell_type": "markdown",
      "metadata": {
        "id": "piqucBgPUi1O"
      },
      "source": [
        "Use the list `temperatures` below to answer Problems #1-4."
      ]
    },
    {
      "cell_type": "code",
      "execution_count": 16,
      "metadata": {
        "id": "47FMiwaiUfr5"
      },
      "outputs": [],
      "source": [
        "temperatures = [60, 66, 42, 38, 71]"
      ]
    },
    {
      "cell_type": "markdown",
      "metadata": {
        "id": "uSCTnndlT-mB"
      },
      "source": [
        "#### **Problem #1:**  Replace `42` with 50."
      ]
    },
    {
      "cell_type": "code",
      "execution_count": 17,
      "metadata": {
        "id": "vJJJmW0Z3KcH",
        "colab": {
          "base_uri": "https://localhost:8080/"
        },
        "outputId": "9ea85c5d-43c7-4453-b568-78aaf57cd9ee"
      },
      "outputs": [
        {
          "output_type": "execute_result",
          "data": {
            "text/plain": [
              "[60, 66, 50, 38, 71]"
            ]
          },
          "metadata": {},
          "execution_count": 17
        }
      ],
      "source": [
        "temperatures[2] = 50\n",
        "print\n",
        "(temperatures)"
      ]
    },
    {
      "cell_type": "markdown",
      "metadata": {
        "id": "nvxk8oq1U_UT"
      },
      "source": [
        "#### **Problem #2:** Drop value 71. "
      ]
    },
    {
      "cell_type": "code",
      "execution_count": 18,
      "metadata": {
        "id": "qiwH5yUL3Tw6"
      },
      "outputs": [],
      "source": [
        "temperatures = temperatures[:-1]"
      ]
    },
    {
      "cell_type": "code",
      "source": [
        "print(temperatures)"
      ],
      "metadata": {
        "colab": {
          "base_uri": "https://localhost:8080/"
        },
        "id": "6Oq34Ld6rdHJ",
        "outputId": "e8e08a46-8c77-4db1-8923-c9c138cf04c7"
      },
      "execution_count": 19,
      "outputs": [
        {
          "output_type": "stream",
          "name": "stdout",
          "text": [
            "[60, 66, 50, 38]\n"
          ]
        }
      ]
    },
    {
      "cell_type": "markdown",
      "metadata": {
        "id": "B3IYGSpOVbnt"
      },
      "source": [
        "#### **Problem #3:** Add value 65."
      ]
    },
    {
      "cell_type": "code",
      "execution_count": 20,
      "metadata": {
        "id": "xaQuluOc3adP",
        "colab": {
          "base_uri": "https://localhost:8080/"
        },
        "outputId": "1878a5bb-8b5f-48d6-ce9c-9f5a735ccfe7"
      },
      "outputs": [
        {
          "output_type": "stream",
          "name": "stdout",
          "text": [
            "[60, 66, 50, 38, 65]\n"
          ]
        }
      ],
      "source": [
        "temperatures.append(65)\n",
        "print(temperatures)"
      ]
    },
    {
      "cell_type": "markdown",
      "metadata": {
        "id": "RvCS8T9QVsOq"
      },
      "source": [
        "#### **Problem #4** Replace 65 with 85."
      ]
    },
    {
      "cell_type": "code",
      "execution_count": 21,
      "metadata": {
        "id": "wP8-nB7A3iS7"
      },
      "outputs": [],
      "source": [
        "z = temperatures.copy()"
      ]
    },
    {
      "cell_type": "code",
      "source": [
        "print(temperatures)\n",
        "for i in range(len(temperatures)):\n",
        "  if temperatures[i] == 65:\n",
        "    temperatures[i] = 85\n",
        "print(temperatures)"
      ],
      "metadata": {
        "colab": {
          "base_uri": "https://localhost:8080/"
        },
        "id": "OlGqUsvcssHs",
        "outputId": "6f2c5d58-a1ba-4bd2-ab02-4171ab3f7e38"
      },
      "execution_count": 22,
      "outputs": [
        {
          "output_type": "stream",
          "name": "stdout",
          "text": [
            "[60, 66, 50, 38, 65]\n",
            "[60, 66, 50, 38, 85]\n"
          ]
        }
      ]
    },
    {
      "cell_type": "markdown",
      "metadata": {
        "id": "ZQgiZ51bWriK"
      },
      "source": [
        "Use the list `subjects` below to answer Problems #5-9."
      ]
    },
    {
      "cell_type": "code",
      "execution_count": 23,
      "metadata": {
        "id": "J2hhXPkoWwCB"
      },
      "outputs": [],
      "source": [
        "subjects = [\"Math\", \"Physics\", \"Chemistry\", \"Biology\"]"
      ]
    },
    {
      "cell_type": "markdown",
      "metadata": {
        "id": "lASyq8zGW1xF"
      },
      "source": [
        "#### **Problem #5:** Add Calculus."
      ]
    },
    {
      "cell_type": "code",
      "execution_count": 24,
      "metadata": {
        "id": "M6McB8Tt4RiJ",
        "colab": {
          "base_uri": "https://localhost:8080/"
        },
        "outputId": "fcda7941-5824-4bce-f351-9d86ec163cf1"
      },
      "outputs": [
        {
          "output_type": "stream",
          "name": "stdout",
          "text": [
            "['Math', 'Physics', 'Chemistry', 'Biology', 'Calculus']\n"
          ]
        }
      ],
      "source": [
        "subjects.append(\"Calculus\")\n",
        "print(subjects)"
      ]
    },
    {
      "cell_type": "markdown",
      "metadata": {
        "id": "RmwkksaCW4gX"
      },
      "source": [
        "#### **Problem #6:** Drop Math."
      ]
    },
    {
      "cell_type": "code",
      "execution_count": 25,
      "metadata": {
        "id": "zE0vh7R44XzU",
        "colab": {
          "base_uri": "https://localhost:8080/"
        },
        "outputId": "0a1df41c-d163-4add-b87c-83445cf6d44e"
      },
      "outputs": [
        {
          "output_type": "stream",
          "name": "stdout",
          "text": [
            "['Physics', 'Chemistry', 'Biology', 'Calculus']\n"
          ]
        }
      ],
      "source": [
        "subjects.remove(\"Math\")\n",
        "print(subjects)"
      ]
    },
    {
      "cell_type": "markdown",
      "metadata": {
        "id": "jZ8AJlrVW5k2"
      },
      "source": [
        "#### **Problem #7:** Replace Physics with AP Physics."
      ]
    },
    {
      "cell_type": "code",
      "execution_count": 26,
      "metadata": {
        "id": "NGn2rRQl4EoB",
        "colab": {
          "base_uri": "https://localhost:8080/"
        },
        "outputId": "ab2c1a47-c49c-4def-8082-7f174a922ab9"
      },
      "outputs": [
        {
          "output_type": "stream",
          "name": "stdout",
          "text": [
            "['AP Physics', 'Chemistry', 'Biology', 'Calculus']\n"
          ]
        }
      ],
      "source": [
        "for i in range(len(subjects)):\n",
        "  if subjects[i] == 'Physics':\n",
        "    subjects[i] = 'AP Physics'\n",
        "print(subjects)"
      ]
    },
    {
      "cell_type": "markdown",
      "metadata": {
        "id": "Xj6gU-xDW9Oj"
      },
      "source": [
        "#### **Problem #8:** Replace Biology with AP Bio."
      ]
    },
    {
      "cell_type": "code",
      "execution_count": 27,
      "metadata": {
        "id": "sw0cpC5aW-oq",
        "colab": {
          "base_uri": "https://localhost:8080/"
        },
        "outputId": "05945472-3b2e-4b5b-8a8a-861f6bdf703e"
      },
      "outputs": [
        {
          "output_type": "stream",
          "name": "stdout",
          "text": [
            "['AP Physics', 'Chemistry', 'Bio', 'Calculus']\n"
          ]
        }
      ],
      "source": [
        "for i in range(len(subjects)):\n",
        "  if subjects[i] == 'Biology':\n",
        "    subjects[i] = 'Bio'\n",
        "print(subjects)"
      ]
    },
    {
      "cell_type": "markdown",
      "metadata": {
        "id": "-2timCvfW-9g"
      },
      "source": [
        "#### **Problem #9:** Drop Calculus. "
      ]
    },
    {
      "cell_type": "code",
      "execution_count": 28,
      "metadata": {
        "id": "rMxJuZ_7HvU-",
        "colab": {
          "base_uri": "https://localhost:8080/"
        },
        "outputId": "040c3f2a-3d41-4a72-fe42-5b20661054e8"
      },
      "outputs": [
        {
          "output_type": "stream",
          "name": "stdout",
          "text": [
            "['AP Physics', 'Chemistry', 'Bio']\n"
          ]
        }
      ],
      "source": [
        "subjects.remove(\"Calculus\")\n",
        "print(subjects)"
      ]
    },
    {
      "cell_type": "markdown",
      "metadata": {
        "id": "pvoRnBcN5F00"
      },
      "source": [
        "Use the list `attendance` below to answer Problems #10-14."
      ]
    },
    {
      "cell_type": "code",
      "execution_count": 29,
      "metadata": {
        "id": "JQk7FsxI5ZZD"
      },
      "outputs": [],
      "source": [
        "attendance = [\"Ellie\", \"Kyle\", \"Deiondre\", \"Zoe\", \"Joaquin\", \"Jo\", \"Liv\"]"
      ]
    },
    {
      "cell_type": "markdown",
      "metadata": {
        "id": "wnQo7Pzb5TLE"
      },
      "source": [
        "#### **Problem #10:** You forgot to add a student. Add Valentina.\n",
        "\n"
      ]
    },
    {
      "cell_type": "code",
      "execution_count": 30,
      "metadata": {
        "id": "1w_O6_6w5sKK",
        "colab": {
          "base_uri": "https://localhost:8080/"
        },
        "outputId": "2ff6dbe4-18b6-4a34-b9ae-5e4909d6d711"
      },
      "outputs": [
        {
          "output_type": "stream",
          "name": "stdout",
          "text": [
            "['Ellie', 'Kyle', 'Deiondre', 'Zoe', 'Joaquin', 'Jo', 'Liv', 'Valentina']\n"
          ]
        }
      ],
      "source": [
        "attendance.append(\"Valentina\")\n",
        "print(attendance)"
      ]
    },
    {
      "cell_type": "markdown",
      "metadata": {
        "id": "Jr5a9Fxz5UOq"
      },
      "source": [
        "#### **Problem #11:** Joaquin accidentally got marked present when he is absent. Remove Joaquin."
      ]
    },
    {
      "cell_type": "code",
      "execution_count": 31,
      "metadata": {
        "id": "Sl0DUTvr6T0v",
        "colab": {
          "base_uri": "https://localhost:8080/"
        },
        "outputId": "9abf35c1-4cfa-4aac-9a55-6dace8f16ecc"
      },
      "outputs": [
        {
          "output_type": "stream",
          "name": "stdout",
          "text": [
            "['Ellie', 'Kyle', 'Deiondre', 'Zoe', 'Jo', 'Liv', 'Valentina']\n"
          ]
        }
      ],
      "source": [
        "attendance.remove(\"Joaquin\")\n",
        "print(attendance)"
      ]
    },
    {
      "cell_type": "markdown",
      "metadata": {
        "id": "rOhwfoxJ5VTz"
      },
      "source": [
        "#### **Problem #12:** It looks like one fo the names wasn't typed correctly. Change \"Jo\" to \"Josh\"."
      ]
    },
    {
      "cell_type": "code",
      "execution_count": 32,
      "metadata": {
        "id": "h23BcAiN7xpL",
        "colab": {
          "base_uri": "https://localhost:8080/"
        },
        "outputId": "e4d878e0-10c1-447f-f710-0dc3b5f35802"
      },
      "outputs": [
        {
          "output_type": "stream",
          "name": "stdout",
          "text": [
            "['Ellie', 'Kyle', 'Deiondre', 'Zoe', 'Josh', 'Liv', 'Valentina']\n"
          ]
        }
      ],
      "source": [
        "for i in range(len(attendance)):\n",
        "  if attendance[i] == 'Jo':\n",
        "    attendance[i] = 'Josh'\n",
        "print(attendance)"
      ]
    },
    {
      "cell_type": "markdown",
      "metadata": {
        "id": "ZHXLNh_q5WXQ"
      },
      "source": [
        "#### **Problem #13:** Kyle prefers going by Ky. Update the attendance to reflect this preference."
      ]
    },
    {
      "cell_type": "code",
      "execution_count": 33,
      "metadata": {
        "id": "JPihwmTT8UAj",
        "colab": {
          "base_uri": "https://localhost:8080/"
        },
        "outputId": "ce8bbcf8-b85d-464b-8811-f4d31899cb63"
      },
      "outputs": [
        {
          "output_type": "stream",
          "name": "stdout",
          "text": [
            "['Ellie', 'Ky', 'Deiondre', 'Zoe', 'Josh', 'Liv', 'Valentina']\n"
          ]
        }
      ],
      "source": [
        "for i in range(len(attendance)):\n",
        "  if attendance[i] == 'Kyle':\n",
        "    attendance[i] = 'Ky'\n",
        "print(attendance)"
      ]
    },
    {
      "cell_type": "markdown",
      "metadata": {
        "id": "H1x4fWj65YLV"
      },
      "source": [
        "#### **Problem #14:** Another student arrived. Add Akilah to the attendance."
      ]
    },
    {
      "cell_type": "code",
      "execution_count": 34,
      "metadata": {
        "id": "pgMjpUr18a8a",
        "colab": {
          "base_uri": "https://localhost:8080/"
        },
        "outputId": "218cbbb8-6c06-400c-d2e8-5893515aa793"
      },
      "outputs": [
        {
          "output_type": "stream",
          "name": "stdout",
          "text": [
            "['Ellie', 'Ky', 'Deiondre', 'Zoe', 'Josh', 'Liv', 'Valentina', 'Akilah']\n"
          ]
        }
      ],
      "source": [
        "attendance.append(\"Akilah\")\n",
        "print(attendance)"
      ]
    },
    {
      "cell_type": "markdown",
      "metadata": {
        "jp-MarkdownHeadingCollapsed": true,
        "tags": [],
        "id": "y6F6xQ6BNj0w"
      },
      "source": [
        "## **Defining Functions**\n",
        "---"
      ]
    },
    {
      "cell_type": "markdown",
      "metadata": {
        "id": "0sR3rHJK_TdA"
      },
      "source": [
        "#### **Problem #1.** How many parameters does the following function have?\n",
        "\n",
        "```\n",
        "def hello():\n",
        "  print(\"Hello!\")\n",
        "```"
      ]
    },
    {
      "cell_type": "code",
      "source": [
        "0"
      ],
      "metadata": {
        "id": "0CDKIFXwapfs",
        "colab": {
          "base_uri": "https://localhost:8080/"
        },
        "outputId": "5ea70829-80a0-4821-e41f-ec29a0964447"
      },
      "execution_count": 35,
      "outputs": [
        {
          "output_type": "execute_result",
          "data": {
            "text/plain": [
              "0"
            ]
          },
          "metadata": {},
          "execution_count": 35
        }
      ]
    },
    {
      "cell_type": "markdown",
      "metadata": {
        "id": "xbH67uoR_S5W"
      },
      "source": [
        "#### **Problem #2:** Looking at the following function, describe what it will do when called.\n",
        "```\n",
        "def mystery(x, y):\n",
        "  print(x + y)\n",
        "```"
      ]
    },
    {
      "cell_type": "markdown",
      "source": [
        "The above function will add the 2 parameters x and y."
      ],
      "metadata": {
        "id": "UwMx0igf1wZT"
      }
    },
    {
      "cell_type": "markdown",
      "metadata": {
        "id": "ACGVYZ6X_UYX"
      },
      "source": [
        "#### **Problem #3:** How many paramters does the following function have?\n",
        "```\n",
        "def params(param):\n",
        "  print(\"You passed \" + str(param) + \" as a parameter\")\n",
        "```"
      ]
    },
    {
      "cell_type": "code",
      "execution_count": 36,
      "metadata": {
        "id": "O6j_ViRtAnPz",
        "colab": {
          "base_uri": "https://localhost:8080/"
        },
        "outputId": "23fd2c3a-314f-4e71-c97a-ca6a32b8fa11"
      },
      "outputs": [
        {
          "output_type": "execute_result",
          "data": {
            "text/plain": [
              "1"
            ]
          },
          "metadata": {},
          "execution_count": 36
        }
      ],
      "source": [
        "1"
      ]
    },
    {
      "cell_type": "markdown",
      "metadata": {
        "id": "K9MYkRd4_Vas"
      },
      "source": [
        "#### **Problem #4:** Fill in the following function so it will add the first two numbers, then subtract the third and print the result."
      ]
    },
    {
      "cell_type": "code",
      "execution_count": 37,
      "metadata": {
        "id": "V7iFh61xA1H0"
      },
      "outputs": [],
      "source": [
        "def math_func(num1, num2, num3):\n",
        "  #add code here\n",
        "  result = num1 + num2 - num3\n",
        "  print(result)"
      ]
    },
    {
      "cell_type": "markdown",
      "metadata": {
        "id": "ToAzo9oZ_Whu"
      },
      "source": [
        "#### **Problem #5:** Fill in the following function so it prints the two names in the format: `\"Name One: <name1>, Name Two: <name2>\"`"
      ]
    },
    {
      "cell_type": "code",
      "execution_count": 38,
      "metadata": {
        "id": "5YOE6WxLBPIm"
      },
      "outputs": [],
      "source": [
        "def two_names(name1, name2):\n",
        "  #add code here\n",
        "  print(\"Name One: %s, Name Two: %s\" % (name1, name2))"
      ]
    },
    {
      "cell_type": "markdown",
      "metadata": {
        "id": "DWr4zAvn_ZwQ"
      },
      "source": [
        "#### **Challenge Problem:** Create a function that accepts two strings and prints both of them with a space between them."
      ]
    },
    {
      "cell_type": "code",
      "source": [
        "def two_strings(str1, str2):\n",
        "  print(str1,str2)"
      ],
      "metadata": {
        "id": "WT6rnq0h2lUT"
      },
      "execution_count": 39,
      "outputs": []
    },
    {
      "cell_type": "markdown",
      "metadata": {
        "id": "aVyYQFjY_a2i"
      },
      "source": [
        "#### **Challenge Problem:** Write a function that accepts two parameters. One being a list, and the other an item to add to the list. Add the item to the list, then print this new list."
      ]
    },
    {
      "cell_type": "code",
      "execution_count": 40,
      "metadata": {
        "id": "I480S2upDGAa"
      },
      "outputs": [],
      "source": [
        "def add_to_list(list_name, item):\n",
        "  #add code here\n",
        "  list_name.append(item)\n",
        "  print(list_name)"
      ]
    },
    {
      "cell_type": "markdown",
      "source": [
        "---\n",
        "Copyright 2022 The Coding School, All rights reserved"
      ],
      "metadata": {
        "id": "gdpTtUR1cZT2"
      }
    },
    {
      "cell_type": "code",
      "source": [],
      "metadata": {
        "id": "bVJFQOlg53_b"
      },
      "execution_count": 40,
      "outputs": []
    }
  ],
  "metadata": {
    "colab": {
      "provenance": [],
      "include_colab_link": true
    },
    "kernelspec": {
      "display_name": "Python 3 (ipykernel)",
      "language": "python",
      "name": "python3"
    },
    "language_info": {
      "codemirror_mode": {
        "name": "ipython",
        "version": 3
      },
      "file_extension": ".py",
      "mimetype": "text/x-python",
      "name": "python",
      "nbconvert_exporter": "python",
      "pygments_lexer": "ipython3",
      "version": "3.8.13"
    }
  },
  "nbformat": 4,
  "nbformat_minor": 0
}